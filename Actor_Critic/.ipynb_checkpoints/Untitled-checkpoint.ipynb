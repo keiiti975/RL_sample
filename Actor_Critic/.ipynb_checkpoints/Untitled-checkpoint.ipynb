{
 "cells": [
  {
   "cell_type": "code",
   "execution_count": null,
   "metadata": {},
   "outputs": [],
   "source": [
    "import numpy as np\n",
    "import torch\n",
    "from torch.optim import AdamW\n",
    "from grid_world import Grid\n",
    "from actor import Actor, Actor_Loss, choose_action\n",
    "from critic import Critic, Critic_Loss"
   ]
  },
  {
   "cell_type": "code",
   "execution_count": null,
   "metadata": {},
   "outputs": [],
   "source": [
    "np.random.seed(1)"
   ]
  },
  {
   "cell_type": "code",
   "execution_count": null,
   "metadata": {},
   "outputs": [],
   "source": [
    "# training config\n",
    "MAX_EPISODE = 450\n",
    "Actor_lr = 1e-3\n",
    "Critic_lr = 1e-3"
   ]
  },
  {
   "cell_type": "code",
   "execution_count": null,
   "metadata": {},
   "outputs": [],
   "source": [
    "# problem setting\n",
    "grid = Grid()\n",
    "grid.draw_board()\n",
    "state_dim = 2\n",
    "action_dim = 4"
   ]
  },
  {
   "cell_type": "code",
   "execution_count": null,
   "metadata": {},
   "outputs": [],
   "source": [
    "# init models\n",
    "actor = Actor(input_dim=state_dim, output_dim=action_dim)\n",
    "critic = Critic(input_dim=state_dim)\n",
    "actor_opt = AdamW(actor.parameters(), lr=Actor_lr)\n",
    "critic_opt = AdamW(critic.parameters(), lr=Critic_lr)"
   ]
  },
  {
   "cell_type": "code",
   "execution_count": null,
   "metadata": {},
   "outputs": [],
   "source": [
    "# init loss\n",
    "a_loss = Actor_Loss()\n",
    "c_loss = Critic_Loss()"
   ]
  },
  {
   "cell_type": "code",
   "execution_count": null,
   "metadata": {},
   "outputs": [],
   "source": []
  },
  {
   "cell_type": "code",
   "execution_count": null,
   "metadata": {},
   "outputs": [],
   "source": []
  },
  {
   "cell_type": "code",
   "execution_count": null,
   "metadata": {},
   "outputs": [],
   "source": []
  },
  {
   "cell_type": "code",
   "execution_count": null,
   "metadata": {},
   "outputs": [],
   "source": [
    "s = grid.reset()\n",
    "t = 0\n",
    "total_action = []\n",
    "done = False"
   ]
  },
  {
   "cell_type": "code",
   "execution_count": null,
   "metadata": {},
   "outputs": [],
   "source": [
    "# step 1\n",
    "s = torch.Tensor(s)\n",
    "pai = actor(s[None, :])"
   ]
  },
  {
   "cell_type": "code",
   "execution_count": null,
   "metadata": {},
   "outputs": [],
   "source": [
    "print(\"s.shape = {}\".format(s.shape))\n",
    "print(\"pai.shape = {}\".format(pai.shape))\n",
    "print(\"\")\n",
    "print(\"s = {}\".format(s))\n",
    "print(\"pai = {}\".format(pai))"
   ]
  },
  {
   "cell_type": "code",
   "execution_count": null,
   "metadata": {},
   "outputs": [],
   "source": [
    "# step 2\n",
    "a = choose_action(pai)"
   ]
  },
  {
   "cell_type": "code",
   "execution_count": null,
   "metadata": {},
   "outputs": [],
   "source": [
    "print(\"a = {}\".format(a))"
   ]
  },
  {
   "cell_type": "code",
   "execution_count": null,
   "metadata": {},
   "outputs": [],
   "source": [
    "# step 3\n",
    "s_, r, done = grid.step(grid.t_action[a])\n",
    "total_action.append(grid.t_action[a])\n",
    "if done:\n",
    "    r = -200"
   ]
  },
  {
   "cell_type": "code",
   "execution_count": null,
   "metadata": {},
   "outputs": [],
   "source": [
    "print(\"s_ = {}\".format(s_))\n",
    "print(\"r = {}\".format(r))\n",
    "print(\"done = {}\".format(done))"
   ]
  },
  {
   "cell_type": "code",
   "execution_count": null,
   "metadata": {},
   "outputs": [],
   "source": [
    "# step 4\n",
    "s_ = torch.Tensor(s_)\n",
    "v = critic(s[None, :])\n",
    "v_ = critic(s_[None, :])"
   ]
  },
  {
   "cell_type": "code",
   "execution_count": null,
   "metadata": {},
   "outputs": [],
   "source": [
    "print(\"s_.shape = {}\".format(s_.shape))\n",
    "print(\"v.shape = {}\".format(v.shape))\n",
    "print(\"v_.shape = {}\".format(v_.shape))\n",
    "print(\"\")\n",
    "print(\"s_ = {}\".format(s_))\n",
    "print(\"v = {}\".format(v))\n",
    "print(\"v_ = {}\".format(v_))"
   ]
  },
  {
   "cell_type": "code",
   "execution_count": null,
   "metadata": {},
   "outputs": [],
   "source": [
    "# step 5, 6\n",
    "critic_loss = c_loss(r, v_, v)"
   ]
  },
  {
   "cell_type": "code",
   "execution_count": null,
   "metadata": {},
   "outputs": [],
   "source": [
    "print(\"critic_loss = {}\".format(critic_loss))"
   ]
  },
  {
   "cell_type": "code",
   "execution_count": null,
   "metadata": {},
   "outputs": [],
   "source": [
    "# step 8\n",
    "actor_loss = a_loss(pai, a-1, critic_loss.item())"
   ]
  },
  {
   "cell_type": "code",
   "execution_count": null,
   "metadata": {},
   "outputs": [],
   "source": [
    "print(\"actor_loss = {}\".format(actor_loss))"
   ]
  },
  {
   "cell_type": "code",
   "execution_count": null,
   "metadata": {},
   "outputs": [],
   "source": [
    "# step 11, 12\n",
    "critic_loss.backward()\n",
    "critic_opt.step()"
   ]
  },
  {
   "cell_type": "code",
   "execution_count": null,
   "metadata": {},
   "outputs": [],
   "source": [
    "# step 10\n",
    "actor_loss.backward()\n",
    "actor_opt.step()"
   ]
  },
  {
   "cell_type": "code",
   "execution_count": null,
   "metadata": {},
   "outputs": [],
   "source": [
    "# other\n",
    "s = s_\n",
    "t += 1"
   ]
  },
  {
   "cell_type": "code",
   "execution_count": null,
   "metadata": {},
   "outputs": [],
   "source": []
  },
  {
   "cell_type": "code",
   "execution_count": null,
   "metadata": {},
   "outputs": [],
   "source": []
  },
  {
   "cell_type": "code",
   "execution_count": null,
   "metadata": {},
   "outputs": [],
   "source": []
  },
  {
   "cell_type": "code",
   "execution_count": null,
   "metadata": {
    "scrolled": true
   },
   "outputs": [],
   "source": [
    "import numpy as np\n",
    "import torch\n",
    "from torch.optim import AdamW\n",
    "from grid_world import Grid\n",
    "from actor import Actor, Actor_Loss, choose_action\n",
    "from critic import Critic, Critic_Loss\n",
    "\n",
    "np.random.seed(1)\n",
    "\n",
    "# training config\n",
    "MAX_EPISODE = 450\n",
    "Actor_lr = 1e-3\n",
    "Critic_lr = 1e-3\n",
    "\n",
    "# problem setting\n",
    "grid = Grid()\n",
    "grid.draw_board()\n",
    "state_dim = 2\n",
    "action_dim = 4\n",
    "\n",
    "# init models\n",
    "actor = Actor(input_dim=state_dim, output_dim=action_dim)\n",
    "critic = Critic(input_dim=state_dim)\n",
    "actor_opt = AdamW(actor.parameters(), lr=Actor_lr)\n",
    "critic_opt = AdamW(critic.parameters(), lr=Critic_lr)\n",
    "\n",
    "# init loss\n",
    "a_loss = Actor_Loss()\n",
    "c_loss = Critic_Loss()\n",
    "\n",
    "for i_episode in range(MAX_EPISODE):\n",
    "    s = grid.reset()\n",
    "    t = 0\n",
    "    total_action = []\n",
    "    done = False\n",
    "    while(not done and t < 200):\n",
    "        # step 1\n",
    "        s = torch.Tensor(s)\n",
    "        pai = actor(s[None, :])\n",
    "        # step 2\n",
    "        a = choose_action(pai)\n",
    "        # step 3\n",
    "        s_, r, done = grid.step(grid.t_action[a])\n",
    "        total_action.append(grid.t_action[a])\n",
    "        if done:\n",
    "            r = -200\n",
    "        # step 4\n",
    "        s_ = torch.Tensor(s_)\n",
    "        v = critic(s[None, :])\n",
    "        v_ = critic(s_[None, :])\n",
    "        #print(\"v = {}\".format(v))\n",
    "        #print(\"v_ = {}\".format(v_))\n",
    "        # step 5, 6\n",
    "        critic_loss = c_loss(r, v_, v)\n",
    "        #print(\"critic_loss = {}\".format(critic_loss))\n",
    "        # step 7\n",
    "        pass\n",
    "        # step 8\n",
    "        actor_loss = a_loss(pai, a, critic_loss)\n",
    "        #print(\"actor_loss = {}\".format(actor_loss))\n",
    "        # step 9\n",
    "        pass\n",
    "        # step 11, 12\n",
    "        #critic_loss.backward()\n",
    "        #critic_opt.step()\n",
    "        # step 10\n",
    "        actor_loss.backward()\n",
    "        actor_opt.step()\n",
    "        # other\n",
    "        s = s_\n",
    "        t += 1\n",
    "    print(\"episode:\", i_episode, \"  tracked actions to attempt goal:\", total_action)"
   ]
  },
  {
   "cell_type": "code",
   "execution_count": null,
   "metadata": {},
   "outputs": [],
   "source": []
  }
 ],
 "metadata": {
  "kernelspec": {
   "display_name": "pytorch",
   "language": "python",
   "name": "pytorch"
  },
  "language_info": {
   "codemirror_mode": {
    "name": "ipython",
    "version": 3
   },
   "file_extension": ".py",
   "mimetype": "text/x-python",
   "name": "python",
   "nbconvert_exporter": "python",
   "pygments_lexer": "ipython3",
   "version": "3.8.5"
  }
 },
 "nbformat": 4,
 "nbformat_minor": 4
}
